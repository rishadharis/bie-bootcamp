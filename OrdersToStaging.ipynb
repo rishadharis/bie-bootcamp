{
 "cells": [
  {
   "cell_type": "markdown",
   "id": "90fcf085",
   "metadata": {},
   "source": [
    "## Damares Source to Staging [Orders]\n",
    "Created By : Rishad Harisdias Bustomi\n",
    "\n",
    "Version : 1.0\n",
    "\n",
    "Last Modified : 2023-03-29\n",
    "\n",
    "This purpose of this etl job is to fetch excel data from FTP and then ingest it to Big Query staging database"
   ]
  },
  {
   "cell_type": "code",
   "execution_count": 25,
   "id": "48dfcb2b",
   "metadata": {},
   "outputs": [],
   "source": [
    "# Import Needed Library\n",
    "\n",
    "from google.cloud import bigquery\n",
    "import pandas as pd\n",
    "import ftplib\n",
    "import os"
   ]
  },
  {
   "cell_type": "code",
   "execution_count": null,
   "id": "657597b5",
   "metadata": {},
   "outputs": [],
   "source": [
    "# Not Runnable\n",
    "server = ftplib.FTP()\n",
    "server.connect('10.10.2.123', 5556)\n",
    "server.login('user','123456')\n",
    "\n",
    "filenames = server.nlst()\n",
    "\n",
    "for filename in filenames:\n",
    "    local_filename = os.path.join('C:\\\\Users\\\\20220637\\\\Documents\\\\GitHub\\\\bie-bootcamp\\\\dataset\\\\', filename)\n",
    "    file = open(local_filename, 'wb')\n",
    "    ftp.retrbinary('RETR '+ filename, file.write)\n",
    "\n",
    "    file.close()\n",
    "\n",
    "ftp.quit()"
   ]
  },
  {
   "cell_type": "code",
   "execution_count": 22,
   "id": "e5e80f06",
   "metadata": {},
   "outputs": [],
   "source": []
  },
  {
   "cell_type": "code",
   "execution_count": 2,
   "id": "ce073fba",
   "metadata": {},
   "outputs": [],
   "source": [
    "# Connect to Big Query Client\n",
    "key_path = r'C:\\Users\\20220637\\Documents\\Me\\Binar\\BigQuery\\Credential\\bie-testing-22f0e30d8f95.json'\n",
    "client = bigquery.Client.from_service_account_json(key_path)\n",
    "\n",
    "# Specify table\n",
    "table_id = 'bie-testing.superstore_stg.orders'\n",
    "\n",
    "# List source file\n",
    "source_folder = r\"C:\\Users\\20220637\\Documents\\GitHub\\bie-bootcamp\\dataset\\orders\"\n",
    "dir_list = os.listdir(source_folder)"
   ]
  },
  {
   "cell_type": "code",
   "execution_count": 31,
   "id": "7566eac3",
   "metadata": {},
   "outputs": [
    {
     "ename": "NameError",
     "evalue": "name 'concat' is not defined",
     "output_type": "error",
     "traceback": [
      "\u001b[1;31m---------------------------------------------------------------------------\u001b[0m",
      "\u001b[1;31mNameError\u001b[0m                                 Traceback (most recent call last)",
      "Cell \u001b[1;32mIn [31], line 8\u001b[0m\n\u001b[0;32m      6\u001b[0m     columns \u001b[38;5;241m=\u001b[39m [\u001b[38;5;124m'\u001b[39m\u001b[38;5;124mrow_id\u001b[39m\u001b[38;5;124m'\u001b[39m,\u001b[38;5;124m'\u001b[39m\u001b[38;5;124morder_id\u001b[39m\u001b[38;5;124m'\u001b[39m,\u001b[38;5;124m'\u001b[39m\u001b[38;5;124morder_date\u001b[39m\u001b[38;5;124m'\u001b[39m,\u001b[38;5;124m'\u001b[39m\u001b[38;5;124mship_date\u001b[39m\u001b[38;5;124m'\u001b[39m,\u001b[38;5;124m'\u001b[39m\u001b[38;5;124mship_mode\u001b[39m\u001b[38;5;124m'\u001b[39m,\u001b[38;5;124m'\u001b[39m\u001b[38;5;124mcustomer_id\u001b[39m\u001b[38;5;124m'\u001b[39m,\u001b[38;5;124m'\u001b[39m\u001b[38;5;124mcountry\u001b[39m\u001b[38;5;124m'\u001b[39m,\u001b[38;5;124m'\u001b[39m\u001b[38;5;124mcity\u001b[39m\u001b[38;5;124m'\u001b[39m,\u001b[38;5;124m'\u001b[39m\u001b[38;5;124mstate\u001b[39m\u001b[38;5;124m'\u001b[39m,\u001b[38;5;124m'\u001b[39m\u001b[38;5;124mpostal_code\u001b[39m\u001b[38;5;124m'\u001b[39m,\u001b[38;5;124m'\u001b[39m\u001b[38;5;124mregion\u001b[39m\u001b[38;5;124m'\u001b[39m,\u001b[38;5;124m'\u001b[39m\u001b[38;5;124mproduct_id\u001b[39m\u001b[38;5;124m'\u001b[39m,\u001b[38;5;124m'\u001b[39m\u001b[38;5;124msales\u001b[39m\u001b[38;5;124m'\u001b[39m,\u001b[38;5;124m'\u001b[39m\u001b[38;5;124mquantity\u001b[39m\u001b[38;5;124m'\u001b[39m,\u001b[38;5;124m'\u001b[39m\u001b[38;5;124mdiscount\u001b[39m\u001b[38;5;124m'\u001b[39m,\u001b[38;5;124m'\u001b[39m\u001b[38;5;124mprofit\u001b[39m\u001b[38;5;124m'\u001b[39m]\n\u001b[0;32m      7\u001b[0m     df\u001b[38;5;241m.\u001b[39mcolumns \u001b[38;5;241m=\u001b[39m columns\n\u001b[1;32m----> 8\u001b[0m     df_total \u001b[38;5;241m=\u001b[39m concat([df_total,df], axis\u001b[38;5;241m=\u001b[39m\u001b[38;5;241m0\u001b[39m)\n\u001b[0;32m     10\u001b[0m result \u001b[38;5;241m=\u001b[39m insert_to_bigquery(df_total, table_id)\n\u001b[0;32m     11\u001b[0m \u001b[38;5;28mprint\u001b[39m(result)\n",
      "\u001b[1;31mNameError\u001b[0m: name 'concat' is not defined"
     ]
    }
   ],
   "source": [
    "# Ingest To Bigquery\n",
    "df_total = pd.DataFrame()\n",
    "for file in dir_list:\n",
    "    source = os.path.join(source_folder,file)\n",
    "    df = pd.read_excel(source)\n",
    "    columns = ['row_id','order_id','order_date','ship_date','ship_mode','customer_id','country','city','state','postal_code','region','product_id','sales','quantity','discount','profit']\n",
    "    df.columns = columns\n",
    "    df_total = concat([df_total,df], axis=0)\n",
    "\n",
    "result = insert_to_bigquery(df_total, table_id)\n",
    "print(result)"
   ]
  },
  {
   "cell_type": "markdown",
   "id": "85d3d771",
   "metadata": {},
   "source": [
    "### Function"
   ]
  },
  {
   "cell_type": "code",
   "execution_count": 28,
   "id": "d82aa0cd",
   "metadata": {},
   "outputs": [],
   "source": [
    "def insert_to_bigquery(df, table_id):\n",
    "    job_config = bigquery.LoadJobConfig(\n",
    "        write_disposition=\"WRITE_TRUNCATE\",\n",
    "    )\n",
    "\n",
    "    job = client.load_table_from_dataframe(\n",
    "        df, table_id, job_config=job_config\n",
    "    )\n",
    "    job.result()\n",
    "\n",
    "    table = client.get_table(table_id)  # Make an API request.\n",
    "    result = f\"Loaded {table.num_rows} rows and {len(table.schema)} columns to {table_id}\"\n",
    "    return result"
   ]
  }
 ],
 "metadata": {
  "kernelspec": {
   "display_name": "Python 3 (ipykernel)",
   "language": "python",
   "name": "python3"
  },
  "language_info": {
   "codemirror_mode": {
    "name": "ipython",
    "version": 3
   },
   "file_extension": ".py",
   "mimetype": "text/x-python",
   "name": "python",
   "nbconvert_exporter": "python",
   "pygments_lexer": "ipython3",
   "version": "3.10.7"
  }
 },
 "nbformat": 4,
 "nbformat_minor": 5
}
