{
 "cells": [
  {
   "cell_type": "markdown",
   "id": "5a628c6d",
   "metadata": {},
   "source": [
    "## Damares Source to Staging [Orders]\n",
    "Created By : Rishad Harisdias Bustomi\n",
    "\n",
    "Version : 1.0\n",
    "\n",
    "Last Modified : 2023-03-29\n",
    "\n",
    "This purpose of this etl job is to fetch excel data from FTP and then ingest it to Big Query staging database"
   ]
  },
  {
   "cell_type": "code",
   "execution_count": 1,
   "id": "860f36a8",
   "metadata": {},
   "outputs": [],
   "source": [
    "# Import Needed Library\n",
    "\n",
    "from google.cloud import bigquery\n",
    "# pip install --upgrade google-cloud-bigquery\n",
    "import pandas as pd\n",
    "import ftplib\n",
    "import os"
   ]
  },
  {
   "cell_type": "code",
   "execution_count": null,
   "id": "ab5a0c75",
   "metadata": {},
   "outputs": [],
   "source": [
    "# Not Runnable\n",
    "server = ftplib.FTP()\n",
    "server.connect('10.10.2.123', 5556)\n",
    "server.login('user','123456')\n",
    "\n",
    "filenames = server.nlst()\n",
    "\n",
    "for filename in filenames:\n",
    "    local_filename = os.path.join('C:\\\\Users\\\\20220637\\\\Documents\\\\GitHub\\\\bie-bootcamp\\\\dataset\\\\orders', filename)\n",
    "    file = open(local_filename, 'wb')\n",
    "    ftp.retrbinary('RETR '+ filename, file.write)\n",
    "\n",
    "    file.close()\n",
    "\n",
    "ftp.quit()"
   ]
  },
  {
   "cell_type": "code",
   "execution_count": 22,
   "id": "413787f5",
   "metadata": {},
   "outputs": [],
   "source": []
  },
  {
   "cell_type": "code",
   "execution_count": 2,
   "id": "4a7fa16e",
   "metadata": {},
   "outputs": [],
   "source": [
    "# Connect to Big Query Client\n",
    "key_path = r'C:\\Users\\20220637\\Documents\\Me\\Binar\\BigQuery\\Credential\\bie-testing-22f0e30d8f95.json'\n",
    "client = bigquery.Client.from_service_account_json(key_path)\n",
    "\n",
    "# Specify table\n",
    "table_id = 'bie-testing.superstore_stg.orders'\n",
    "\n",
    "# List source file\n",
    "source_folder = r\"C:\\Users\\20220637\\Documents\\GitHub\\bie-bootcamp\\dataset\\orders\"\n",
    "dir_list = os.listdir(source_folder)"
   ]
  },
  {
   "cell_type": "code",
   "execution_count": 5,
   "id": "2e0d5b74",
   "metadata": {},
   "outputs": [
    {
     "name": "stdout",
     "output_type": "stream",
     "text": [
      "Loaded 9994 rows and 16 columns to bie-testing.superstore_stg.orders\n"
     ]
    }
   ],
   "source": [
    "# Ingest To Bigquery\n",
    "df_total = pd.DataFrame()\n",
    "for file in dir_list:\n",
    "    source = os.path.join(source_folder,file)\n",
    "    df = pd.read_excel(source)\n",
    "    columns = ['row_id','order_id','order_date','ship_date','ship_mode','customer_id','country','city','state','postal_code','region','product_id','sales','quantity','discount','profit']\n",
    "    df.columns = columns\n",
    "    df_total = pd.concat([df_total,df], axis=0)\n",
    "\n",
    "result = insert_to_bigquery(df_total, table_id)\n",
    "print(result)"
   ]
  },
  {
   "cell_type": "markdown",
   "id": "676982da",
   "metadata": {},
   "source": [
    "### Function"
   ]
  },
  {
   "cell_type": "code",
   "execution_count": 3,
   "id": "816820d7",
   "metadata": {},
   "outputs": [],
   "source": [
    "def insert_to_bigquery(df, table_id):\n",
    "    job_config = bigquery.LoadJobConfig(\n",
    "        write_disposition=\"WRITE_TRUNCATE\",\n",
    "    )\n",
    "\n",
    "    job = client.load_table_from_dataframe(\n",
    "        df, table_id, job_config=job_config\n",
    "    )\n",
    "    job.result()\n",
    "\n",
    "    table = client.get_table(table_id)  # Make an API request.\n",
    "    result = f\"Loaded {table.num_rows} rows and {len(table.schema)} columns to {table_id}\"\n",
    "    return result"
   ]
  }
 ],
 "metadata": {
  "kernelspec": {
   "display_name": "Python 3 (ipykernel)",
   "language": "python",
   "name": "python3"
  },
  "language_info": {
   "codemirror_mode": {
    "name": "ipython",
    "version": 3
   },
   "file_extension": ".py",
   "mimetype": "text/x-python",
   "name": "python",
   "nbconvert_exporter": "python",
   "pygments_lexer": "ipython3",
   "version": "3.10.7"
  }
 },
 "nbformat": 4,
 "nbformat_minor": 5
}
